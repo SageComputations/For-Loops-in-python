{
 "cells": [
  {
   "cell_type": "markdown",
   "id": "e2fbcfd7",
   "metadata": {},
   "source": [
    "# Q1. Print the cubes of all the elements in a list using a for loop"
   ]
  },
  {
   "cell_type": "code",
   "execution_count": 1,
   "id": "6fe3fe07",
   "metadata": {},
   "outputs": [
    {
     "name": "stdout",
     "output_type": "stream",
     "text": [
      "[1, 8, 27, 64, 125, 216]\n"
     ]
    }
   ],
   "source": [
    "original_list = [1,2,3,4,5,6]\n",
    "cubes_list = []\n",
    "\n",
    "for i in original_list:\n",
    "    \n",
    "    cubes_list.append(i ** 3)\n",
    "    \n",
    "print(cubes_list)"
   ]
  },
  {
   "cell_type": "markdown",
   "id": "7922c850",
   "metadata": {},
   "source": [
    "# Q2. Given the following 2-D list, Create a 1-D list containing all the automobile company names:\n"
   ]
  },
  {
   "cell_type": "code",
   "execution_count": 2,
   "id": "ef8c068d",
   "metadata": {},
   "outputs": [
    {
     "name": "stdout",
     "output_type": "stream",
     "text": [
      "['Volkswagen', 'Mercedes', 'BMW', 'Honda', 'Toyota', 'Mazda']\n"
     ]
    }
   ],
   "source": [
    "original_list = [['Volkswagen','Mercedes','BMW'],\n",
    "                ['Honda','Toyota','Mazda']]\n",
    "\n",
    "flattened_list = []\n",
    "\n",
    "for cars_list in original_list:\n",
    "    \n",
    "    for car in cars_list:\n",
    "        flattened_list.append(car)\n",
    "        \n",
    "print(flattened_list)"
   ]
  },
  {
   "cell_type": "markdown",
   "id": "59aa7d06",
   "metadata": {},
   "source": [
    "# Q3. Use the range function to print all of the leap years in 21st Century"
   ]
  },
  {
   "cell_type": "code",
   "execution_count": 3,
   "id": "719c5034",
   "metadata": {},
   "outputs": [
    {
     "name": "stdout",
     "output_type": "stream",
     "text": [
      "[2000, 2004, 2008, 2012, 2016, 2020, 2024, 2028, 2032, 2036, 2040, 2044, 2048, 2052, 2056, 2060, 2064, 2068, 2072, 2076, 2080, 2084, 2088, 2092, 2096]\n"
     ]
    }
   ],
   "source": [
    "leap_year_range = range(2000,2100,4)\n",
    "\n",
    "leap_year_list = list(leap_year_range)\n",
    "\n",
    "print(leap_year_list)"
   ]
  },
  {
   "cell_type": "code",
   "execution_count": null,
   "id": "1bfd4054",
   "metadata": {},
   "outputs": [],
   "source": []
  }
 ],
 "metadata": {
  "kernelspec": {
   "display_name": "Python 3 (ipykernel)",
   "language": "python",
   "name": "python3"
  },
  "language_info": {
   "codemirror_mode": {
    "name": "ipython",
    "version": 3
   },
   "file_extension": ".py",
   "mimetype": "text/x-python",
   "name": "python",
   "nbconvert_exporter": "python",
   "pygments_lexer": "ipython3",
   "version": "3.9.12"
  }
 },
 "nbformat": 4,
 "nbformat_minor": 5
}
