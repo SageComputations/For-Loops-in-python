{
 "cells": [
  {
   "cell_type": "code",
   "execution_count": 1,
   "id": "971d9e0b",
   "metadata": {},
   "outputs": [
    {
     "name": "stdout",
     "output_type": "stream",
     "text": [
      "India\n",
      "Japan\n",
      "Germany\n"
     ]
    }
   ],
   "source": [
    "for country in \"India\",'Japan','Germany':\n",
    "    print(country)"
   ]
  },
  {
   "cell_type": "code",
   "execution_count": 2,
   "id": "5b6324ca",
   "metadata": {},
   "outputs": [],
   "source": [
    "dogs = ('Pug','Doberman','German Shepherd')"
   ]
  },
  {
   "cell_type": "code",
   "execution_count": 4,
   "id": "5f7fe510",
   "metadata": {},
   "outputs": [
    {
     "name": "stdout",
     "output_type": "stream",
     "text": [
      "It is a Pug\n",
      "It is a Doberman\n",
      "It is a German Shepherd\n"
     ]
    }
   ],
   "source": [
    "for dog in dogs:\n",
    "    print('It is a',dog)"
   ]
  },
  {
   "cell_type": "code",
   "execution_count": 12,
   "id": "74f477fe",
   "metadata": {},
   "outputs": [
    {
     "name": "stdout",
     "output_type": "stream",
     "text": [
      "The dog at index 0 is a Pug and it weighs 20 pounds\n",
      "The dog at index 1 is a Doberman and it weighs 80 pounds\n",
      "The dog at index 2 is a Golden Retriever and it weighs 85 pounds\n"
     ]
    }
   ],
   "source": [
    "dog_weight = (('Pug',20),\n",
    "             ('Doberman',80),\n",
    "             ('Golden Retriever',85))\n",
    "\n",
    "for i, (dog,weight) in enumerate(dog_weight):\n",
    "    print(\"The dog at index %d is a %s and it weighs %d pounds\" % (i, dog, weight))"
   ]
  },
  {
   "cell_type": "markdown",
   "id": "4eb37039",
   "metadata": {},
   "source": [
    "# Enumerate returns the element along with it's index"
   ]
  },
  {
   "cell_type": "code",
   "execution_count": 13,
   "id": "3968dec0",
   "metadata": {},
   "outputs": [
    {
     "name": "stdout",
     "output_type": "stream",
     "text": [
      "Happy new year, Jack\n",
      "Happy new year, Jill\n",
      "Happy new year, Mill\n"
     ]
    }
   ],
   "source": [
    "friends = ['Jack','Jill','Mill']\n",
    "\n",
    "for friend in friends:\n",
    "    print(\"Happy new year,\", friend)"
   ]
  },
  {
   "cell_type": "code",
   "execution_count": 17,
   "id": "2d06fdd1",
   "metadata": {},
   "outputs": [
    {
     "data": {
      "text/plain": [
       "{'John': 80, 'Sam': 60, 'Jack': 70, 'Jill': 90}"
      ]
     },
     "execution_count": 17,
     "metadata": {},
     "output_type": "execute_result"
    }
   ],
   "source": [
    "student_scores = {'John':80,\n",
    "                 'Sam':60,\n",
    "                 'Jack':70,\n",
    "                 'Jill':90}\n",
    "\n",
    "student_scores"
   ]
  },
  {
   "cell_type": "code",
   "execution_count": 18,
   "id": "f793655c",
   "metadata": {},
   "outputs": [
    {
     "name": "stdout",
     "output_type": "stream",
     "text": [
      "John\n",
      "Sam\n",
      "Jack\n",
      "Jill\n"
     ]
    }
   ],
   "source": [
    "for student in student_scores:\n",
    "    print(student)"
   ]
  },
  {
   "cell_type": "code",
   "execution_count": 20,
   "id": "4cc3c3f1",
   "metadata": {},
   "outputs": [
    {
     "data": {
      "text/plain": [
       "dict_keys(['John', 'Sam', 'Jack', 'Jill'])"
      ]
     },
     "execution_count": 20,
     "metadata": {},
     "output_type": "execute_result"
    }
   ],
   "source": [
    "student_scores.keys()"
   ]
  },
  {
   "cell_type": "code",
   "execution_count": 21,
   "id": "c4afab78",
   "metadata": {},
   "outputs": [
    {
     "name": "stdout",
     "output_type": "stream",
     "text": [
      "John\n",
      "Sam\n",
      "Jack\n",
      "Jill\n"
     ]
    }
   ],
   "source": [
    "for student in student_scores.keys():\n",
    "    print(student)"
   ]
  },
  {
   "cell_type": "code",
   "execution_count": 23,
   "id": "aa42be11",
   "metadata": {},
   "outputs": [
    {
     "name": "stdout",
     "output_type": "stream",
     "text": [
      "80\n",
      "60\n",
      "70\n",
      "90\n"
     ]
    }
   ],
   "source": [
    "for score in student_scores.values():\n",
    "    print(score)"
   ]
  },
  {
   "cell_type": "code",
   "execution_count": 26,
   "id": "09663f5f",
   "metadata": {},
   "outputs": [
    {
     "name": "stdout",
     "output_type": "stream",
     "text": [
      "Key value pair - John : 80\n",
      "Key value pair - Sam : 60\n",
      "Key value pair - Jack : 70\n",
      "Key value pair - Jill : 90\n"
     ]
    }
   ],
   "source": [
    "for key in student_scores:\n",
    "    print(\"Key value pair -\",key,\":\", student_scores[key])"
   ]
  },
  {
   "cell_type": "code",
   "execution_count": 28,
   "id": "15a37c7f",
   "metadata": {},
   "outputs": [
    {
     "name": "stdout",
     "output_type": "stream",
     "text": [
      "('John', 80)\n",
      "('Sam', 60)\n",
      "('Jack', 70)\n",
      "('Jill', 90)\n"
     ]
    }
   ],
   "source": [
    "for key_value in student_scores.items():\n",
    "    print(key_value)"
   ]
  },
  {
   "cell_type": "markdown",
   "id": "b44b80dc",
   "metadata": {},
   "source": [
    "# items( ) function will return a tuple at each iteration , where tuple conatins both the key and value."
   ]
  },
  {
   "cell_type": "code",
   "execution_count": 29,
   "id": "cc775b90",
   "metadata": {},
   "outputs": [
    {
     "name": "stdout",
     "output_type": "stream",
     "text": [
      "Student: John \tScore: 80\n",
      "Student: Sam \tScore: 60\n",
      "Student: Jack \tScore: 70\n",
      "Student: Jill \tScore: 90\n"
     ]
    }
   ],
   "source": [
    "for student,score in student_scores.items():   #creating two variables to capture both keys and values \n",
    "    print(\"Student:\",student,\"\\tScore:\",score)"
   ]
  },
  {
   "cell_type": "code",
   "execution_count": null,
   "id": "acb33c76",
   "metadata": {},
   "outputs": [],
   "source": []
  }
 ],
 "metadata": {
  "kernelspec": {
   "display_name": "Python 3 (ipykernel)",
   "language": "python",
   "name": "python3"
  },
  "language_info": {
   "codemirror_mode": {
    "name": "ipython",
    "version": 3
   },
   "file_extension": ".py",
   "mimetype": "text/x-python",
   "name": "python",
   "nbconvert_exporter": "python",
   "pygments_lexer": "ipython3",
   "version": "3.9.12"
  }
 },
 "nbformat": 4,
 "nbformat_minor": 5
}
