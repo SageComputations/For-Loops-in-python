{
 "cells": [
  {
   "cell_type": "code",
   "execution_count": 2,
   "id": "de4b0a16",
   "metadata": {},
   "outputs": [
    {
     "name": "stdout",
     "output_type": "stream",
     "text": [
      "The number 1 is not divisible by 2, therefore it is not even\n",
      "The number 2 is divisible by 2, hence it is even\n",
      "The number 3 is not divisible by 2, therefore it is not even\n",
      "The number 4 is divisible by 2, hence it is even\n",
      "The number 5 is not divisible by 2, therefore it is not even\n",
      "The number 6 is divisible by 2, hence it is even\n",
      "The number 7 is not divisible by 2, therefore it is not even\n",
      "The number 8 is divisible by 2, hence it is even\n",
      "The number 9 is not divisible by 2, therefore it is not even\n"
     ]
    }
   ],
   "source": [
    "for i in range (1, 10):\n",
    "    \n",
    "    if i % 2 ==0:\n",
    "        print(\"The number %s is divisible by 2, hence it is even\" % i)\n",
    "        \n",
    "    else:\n",
    "        print(\"The number %s is not divisible by 2, therefore it is not even\" % i)"
   ]
  },
  {
   "cell_type": "code",
   "execution_count": 3,
   "id": "0db1ea55",
   "metadata": {},
   "outputs": [
    {
     "name": "stdout",
     "output_type": "stream",
     "text": [
      "[3, 5, 6, 9, 10, 12, 15, 18, 20]\n"
     ]
    }
   ],
   "source": [
    "num_list = []\n",
    "\n",
    "for i in range(1,21):\n",
    "    \n",
    "    if (i%3 == 0 or i%5 == 0):\n",
    "        num_list.append(i)\n",
    "        \n",
    "print(num_list)"
   ]
  },
  {
   "cell_type": "code",
   "execution_count": 7,
   "id": "5f88659d",
   "metadata": {},
   "outputs": [
    {
     "name": "stdout",
     "output_type": "stream",
     "text": [
      "200, 202, 204, 206, 208, 220, 222, 224, 226, 228, 240, 242, 244, 246, 248, 260, 262, 264, 266, 268, 280, 282, 284, 286, 288\n"
     ]
    }
   ],
   "source": [
    "items = []\n",
    "\n",
    "for i in range(100,301):\n",
    "    \n",
    "    num_str = str(i)\n",
    "    \n",
    "    first_digit = int(num_str[0])\n",
    "    second_digit = int(num_str[1])\n",
    "    third_digit = int(num_str[2])\n",
    "    \n",
    "    if (first_digit % 2 == 0) and (second_digit % 2 == 0) and (third_digit % 2 ==0):\n",
    "        items.append(num_str)\n",
    "        \n",
    "print(\", \".join(items))"
   ]
  },
  {
   "cell_type": "code",
   "execution_count": 5,
   "id": "4634c7fc",
   "metadata": {},
   "outputs": [
    {
     "name": "stdout",
     "output_type": "stream",
     "text": [
      "num = 1 :  1  2  3  4  5  6  7  8  9 10 \n",
      "num = 2 :  2  4  6  8 10 12 14 16 18 20 \n",
      "num = 3 :  3  6  9 12 15 18 21 24 27 30 \n",
      "num = 4 :  4  8 12 16 20 24 28 32 36 40 \n",
      "num = 5 :  5 10 15 20 25 30 35 40 45 50 \n",
      "num = 6 :  6 12 18 24 30 36 42 48 54 60 \n",
      "num = 7 :  7 14 21 28 35 42 49 56 63 70 \n",
      "num = 8 :  8 16 24 32 40 48 56 64 72 80 \n",
      "num = 9 :  9 18 27 36 45 54 63 72 81 90 \n",
      "num = 10 : 10 20 30 40 50 60 70 80 90 100 \n"
     ]
    }
   ],
   "source": [
    "for num1 in range(1,11):\n",
    "    print('num =', num1, ':',end = ' ')\n",
    "    \n",
    "    for num_2 in range(1,11):\n",
    "        print(\"{:2d}\".format(num1 * num_2),end = \" \")\n",
    "        \n",
    "    print()"
   ]
  },
  {
   "cell_type": "code",
   "execution_count": null,
   "id": "337e64c2",
   "metadata": {},
   "outputs": [],
   "source": []
  }
 ],
 "metadata": {
  "kernelspec": {
   "display_name": "Python 3 (ipykernel)",
   "language": "python",
   "name": "python3"
  },
  "language_info": {
   "codemirror_mode": {
    "name": "ipython",
    "version": 3
   },
   "file_extension": ".py",
   "mimetype": "text/x-python",
   "name": "python",
   "nbconvert_exporter": "python",
   "pygments_lexer": "ipython3",
   "version": "3.9.12"
  }
 },
 "nbformat": 4,
 "nbformat_minor": 5
}
