{
 "cells": [
  {
   "cell_type": "code",
   "execution_count": 1,
   "id": "9a0bd126",
   "metadata": {},
   "outputs": [
    {
     "name": "stdout",
     "output_type": "stream",
     "text": [
      "New Delhi is present in the list\n"
     ]
    }
   ],
   "source": [
    "cities = ['New Delhi',\"Gurugram\",'Noida']\n",
    "\n",
    "for city in cities:\n",
    "    \n",
    "    if city == 'New Delhi':\n",
    "        \n",
    "        print('New Delhi is present in the list')"
   ]
  },
  {
   "cell_type": "code",
   "execution_count": 2,
   "id": "5cbb0b32",
   "metadata": {},
   "outputs": [
    {
     "name": "stdout",
     "output_type": "stream",
     "text": [
      "The list contains an even number: 2\n",
      "The list contains an even number: 22\n",
      "The list contains an even number: 48\n"
     ]
    }
   ],
   "source": [
    "numbers = [1,3,5,7,9,11,13,15,2,17,19,22,45,48]\n",
    "\n",
    "for num in numbers:\n",
    "    \n",
    "    if num % 2 == 0:\n",
    "        \n",
    "        print('The list contains an even number:',num)"
   ]
  },
  {
   "cell_type": "code",
   "execution_count": 4,
   "id": "82817b19",
   "metadata": {},
   "outputs": [
    {
     "name": "stdout",
     "output_type": "stream",
     "text": [
      "2016 is a leap year.\n",
      "2017 is not a leap year.\n",
      "2018 is not a leap year.\n",
      "2019 is not a leap year.\n",
      "2020 is a leap year.\n"
     ]
    }
   ],
   "source": [
    "years = [2016,2017,2018,2019,2020]\n",
    "\n",
    "for year in years:\n",
    "    \n",
    "    if year % 4 == 0:\n",
    "        \n",
    "        print(year,'is a leap year.')\n",
    "        \n",
    "    else:\n",
    "        \n",
    "        print(year,'is not a leap year.')"
   ]
  },
  {
   "cell_type": "code",
   "execution_count": 5,
   "id": "b0ebef5a",
   "metadata": {},
   "outputs": [
    {
     "name": "stdout",
     "output_type": "stream",
     "text": [
      "['Raman', 'Naman', 'Kishan']\n",
      "['Radha', 'Nidhi', 'Khushi']\n"
     ]
    }
   ],
   "source": [
    "names = [['Raman','Naman','Kishan'],\n",
    "        ['Radha','Nidhi','Khushi']]\n",
    "\n",
    "for sublist in names:\n",
    "     print(sublist)"
   ]
  },
  {
   "cell_type": "code",
   "execution_count": 6,
   "id": "87a99e47",
   "metadata": {},
   "outputs": [
    {
     "name": "stdout",
     "output_type": "stream",
     "text": [
      "Raman\n",
      "Naman\n",
      "Kishan\n",
      "Radha\n",
      "Nidhi\n",
      "Khushi\n"
     ]
    }
   ],
   "source": [
    "for sublist in names:\n",
    "    for name in sublist:\n",
    "        print(name)"
   ]
  },
  {
   "cell_type": "code",
   "execution_count": 7,
   "id": "757c0776",
   "metadata": {},
   "outputs": [
    {
     "name": "stdout",
     "output_type": "stream",
     "text": [
      "Red Pen\n",
      "Red Marker\n",
      "Red Pencil\n",
      "Green Pen\n",
      "Green Marker\n",
      "Green Pencil\n",
      "Blue Pen\n",
      "Blue Marker\n",
      "Blue Pencil\n"
     ]
    }
   ],
   "source": [
    "colors_list = ['Red','Green','Blue']\n",
    "objects_list = ['Pen','Marker','Pencil']\n",
    "\n",
    "for color in colors_list:\n",
    "    for obj in objects_list:\n",
    "        \n",
    "        print(color,obj) #An example of permutation combination"
   ]
  },
  {
   "cell_type": "code",
   "execution_count": null,
   "id": "98b88a01",
   "metadata": {},
   "outputs": [],
   "source": []
  }
 ],
 "metadata": {
  "kernelspec": {
   "display_name": "Python 3 (ipykernel)",
   "language": "python",
   "name": "python3"
  },
  "language_info": {
   "codemirror_mode": {
    "name": "ipython",
    "version": 3
   },
   "file_extension": ".py",
   "mimetype": "text/x-python",
   "name": "python",
   "nbconvert_exporter": "python",
   "pygments_lexer": "ipython3",
   "version": "3.9.12"
  }
 },
 "nbformat": 4,
 "nbformat_minor": 5
}
