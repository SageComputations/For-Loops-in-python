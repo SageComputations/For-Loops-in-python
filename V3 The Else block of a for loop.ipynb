{
 "cells": [
  {
   "cell_type": "code",
   "execution_count": 1,
   "id": "b03e34ec",
   "metadata": {},
   "outputs": [
    {
     "name": "stdout",
     "output_type": "stream",
     "text": [
      "2 is the quotient of 4 /2\n",
      "3 is the quotient of 6 /2\n",
      "4 is the quotient of 9 /2\n",
      "5 is the quotient of 10 /2\n"
     ]
    }
   ],
   "source": [
    "numbers = [4,6,9,10]\n",
    "\n",
    "for num in numbers:\n",
    "    quotient = num//2\n",
    "    \n",
    "    print(quotient, \"is the quotient of\",num,\"/2\")"
   ]
  },
  {
   "cell_type": "code",
   "execution_count": 2,
   "id": "37130f51",
   "metadata": {},
   "outputs": [
    {
     "name": "stdout",
     "output_type": "stream",
     "text": [
      "Type of  145  is  <class 'int'>\n",
      "Type of  10.5  is  <class 'float'>\n",
      "Type of  (1+3j)  is  <class 'complex'>\n",
      "Type of  True  is  <class 'bool'>\n",
      "Type of  Python  is  <class 'str'>\n",
      "Type of  (0, 1)  is  <class 'tuple'>\n",
      "Type of  [2, -5]  is  <class 'list'>\n",
      "Type of  {'Class': 'V', 'Section': 'A'}  is  <class 'dict'>\n"
     ]
    }
   ],
   "source": [
    "mixed_list = [145,10.5,1+3j,\n",
    "             True,\"Python\",\n",
    "             (0,1),[2,-5],\n",
    "             {\"Class\":\"V\",\"Section\":\"A\"}]\n",
    "\n",
    "for item in mixed_list:\n",
    "    print(\"Type of \",item , \" is \",type(item))"
   ]
  },
  {
   "cell_type": "code",
   "execution_count": 3,
   "id": "2b25041b",
   "metadata": {},
   "outputs": [
    {
     "name": "stdout",
     "output_type": "stream",
     "text": [
      "Square of 2 is 4\n",
      "Square of 4 is 16\n",
      "Square of 6 is 36\n",
      "Square of 8 is 64\n"
     ]
    }
   ],
   "source": [
    "num_list = [2,4,6,8]\n",
    "\n",
    "square = 0\n",
    "\n",
    "for val in num_list:\n",
    "    square = val ** 2\n",
    "    \n",
    "    print (\"Square of\", val, \"is\", square)"
   ]
  },
  {
   "cell_type": "code",
   "execution_count": 2,
   "id": "107f89ae",
   "metadata": {},
   "outputs": [
    {
     "name": "stdout",
     "output_type": "stream",
     "text": [
      "Enter a string: Hello World\n",
      "11\n"
     ]
    }
   ],
   "source": [
    "string = input(\"Enter a string: \")\n",
    "\n",
    "count = 0\n",
    "\n",
    "for i in string:\n",
    "    count = count + 1\n",
    "    \n",
    "print(count)"
   ]
  },
  {
   "cell_type": "code",
   "execution_count": 7,
   "id": "90a06412",
   "metadata": {},
   "outputs": [
    {
     "name": "stdout",
     "output_type": "stream",
     "text": [
      "2\n",
      "3\n",
      "5\n",
      "7\n",
      "No more items left in the list.\n"
     ]
    }
   ],
   "source": [
    "numbers = [2,3,5,7]\n",
    "\n",
    "for num in numbers:\n",
    "    print(num)\n",
    "    \n",
    "else:\n",
    "    print(\"No more items left in the list.\")"
   ]
  },
  {
   "cell_type": "code",
   "execution_count": 8,
   "id": "c9545210",
   "metadata": {},
   "outputs": [
    {
     "name": "stdout",
     "output_type": "stream",
     "text": [
      "c\n",
      "a\n",
      "d\n",
      "b\n",
      "No more characters left \n"
     ]
    }
   ],
   "source": [
    "characters = {'a','b','c','d'}\n",
    "\n",
    "for letter in characters:\n",
    "    print (letter)  #order of the elements is not maintained\n",
    "    \n",
    "else:\n",
    "    print(\"No more characters left \")"
   ]
  },
  {
   "cell_type": "code",
   "execution_count": null,
   "id": "40ad2467",
   "metadata": {},
   "outputs": [],
   "source": []
  }
 ],
 "metadata": {
  "kernelspec": {
   "display_name": "Python 3 (ipykernel)",
   "language": "python",
   "name": "python3"
  },
  "language_info": {
   "codemirror_mode": {
    "name": "ipython",
    "version": 3
   },
   "file_extension": ".py",
   "mimetype": "text/x-python",
   "name": "python",
   "nbconvert_exporter": "python",
   "pygments_lexer": "ipython3",
   "version": "3.9.12"
  }
 },
 "nbformat": 4,
 "nbformat_minor": 5
}
